{
 "cells": [
  {
   "cell_type": "code",
   "execution_count": null,
   "id": "e9ba7f2c",
   "metadata": {},
   "outputs": [],
   "source": [
    "from my_flask import Flask, jsonify\n",
    "from sqlalchemy import create_engine\n",
    "from sqlalchemy.orm import Session\n",
    "from sqlalchemy.ext.automap import automap_base\n",
    "from datetime import datetime, timedelta\n"
   ]
  },
  {
   "cell_type": "code",
   "execution_count": null,
   "id": "d5c413f9",
   "metadata": {},
   "outputs": [],
   "source": [
    "# Create the Flask app\n",
    "app = Flask(__name__)\n"
   ]
  },
  {
   "cell_type": "code",
   "execution_count": null,
   "id": "c42352c0",
   "metadata": {},
   "outputs": [],
   "source": [
    "# Create the database connection\n",
    "engine = create_engine('sqlite:///hawaii.sqlite')\n",
    "Base = automap_base()\n",
    "Base.prepare(engine, reflect=True)\n",
    "Measurement = Base.classes.measurement\n",
    "Station = Base.classes.station\n",
    "session = Session(engine)\n"
   ]
  },
  {
   "cell_type": "code",
   "execution_count": null,
   "id": "1251559d",
   "metadata": {},
   "outputs": [],
   "source": [
    "# Define the routes\n",
    "\n",
    "@app.route(\"/\")\n",
    "def home():\n",
    "    return (\n",
    "        f\"Available Routes:<br/>\"\n",
    "        f\"/api/v1.0/precipitation<br/>\"\n",
    "        f\"/api/v1.0/stations<br/>\"\n",
    "        f\"/api/v1.0/tobs<br/>\"\n",
    "        f\"/api/v1.0/&lt;start&gt;<br/>\"\n",
    "        f\"/api/v1.0/&lt;start&gt;/&lt;end&gt;<br/>\"\n",
    "    )"
   ]
  },
  {
   "cell_type": "code",
   "execution_count": null,
   "id": "4529cd3e",
   "metadata": {},
   "outputs": [],
   "source": [
    "@app.route(\"/api/v1.0/precipitation\")\n",
    "def precipitation():\n",
    "    # Calculate the date one year ago from the most recent date in the database\n",
    "    last_date = session.query(Measurement.date).order_by(Measurement.date.desc()).first()[0]\n",
    "    one_year_ago = (datetime.strptime(last_date, '%Y-%m-%d') - timedelta(days=365)).strftime('%Y-%m-%d')\n",
    "\n",
    "    \n",
    "    # Query the precipitation data for the last 12 months\n",
    "    results = session.query(Measurement.date, Measurement.prcp).filter(Measurement.date >= one_year_ago).all()\n",
    "    \n",
    "    # Convert the results to a dictionary with date as the key and prcp as the value\n",
    "    precipitation_data = {date: prcp for date, prcp in results}\n",
    "    \n",
    "    return jsonify(precipitation_data)\n"
   ]
  },
  {
   "cell_type": "code",
   "execution_count": null,
   "id": "b81aa4a1",
   "metadata": {},
   "outputs": [],
   "source": [
    "@app.route(\"/api/v1.0/stations\")\n",
    "def stations():\n",
    "    # Query all the stations\n",
    "    results = session.query(Station.station).all()\n",
    "    \n",
    "    # Convert the results to a list\n",
    "    station_list = [station[0] for station in results]\n",
    "    \n",
    "    return jsonify(station_list)\n"
   ]
  },
  {
   "cell_type": "code",
   "execution_count": null,
   "id": "07d09d46",
   "metadata": {},
   "outputs": [],
   "source": [
    "@app.route(\"/api/v1.0/tobs\")\n",
    "def tobs():\n",
    "    # Calculate the date one year ago from the most recent date in the database\n",
    "    last_date = session.query(Measurement.date).order_by(Measurement.date.desc()).first()[0]\n",
    "    one_year_ago = (datetime.strptime(last_date, '%Y-%m-%d') - timedelta(days=365)).strftime('%Y-%m-%d')\n",
    "\n",
    "    \n",
    "    # Find the most-active station\n",
    "    most_active_station = session.query(Measurement.station).\\\n",
    "        group_by(Measurement.station).\\\n",
    "        order_by(Measurement.station.desc()).\\\n",
    "        first()[0]\n",
    "    \n",
    "    # Query the temperature observations for the most-active station in the last 12 months\n",
    "    results = session.query(Measurement.tobs).\\\n",
    "        filter(Measurement.station == most_active_station).\\\n",
    "        filter(Measurement.date >= one_year_ago).all()\n",
    "    \n",
    "    # Convert the results to a list\n",
    "    tobs_list = [tobs[0] for tobs in results]\n",
    "    \n",
    "    return jsonify(tobs_list)"
   ]
  },
  {
   "cell_type": "code",
   "execution_count": null,
   "id": "db7eb157",
   "metadata": {},
   "outputs": [],
   "source": [
    "@app.route(\"/api/v1.0/<start>\")\n",
    "@app.route(\"/api/v1.0/<start>/<end>\")\n",
    "def temperature_stats(start, end=None):\n",
    "    # Query the temperature data based on the start and end dates (if provided)\n",
    "    if end:\n",
    "        results = session.query(func.min(Measurement.tobs), func.avg(Measurement.tobs), func.max(Measurement.tobs)).\\\n",
    "            filter(Measurement.date >= start).\\\n",
    "            filter(Measurement.date <= end).all()\n",
    "    else:\n",
    "        results = session.query(func.min(Measurement.tobs), func.avg(Measurement.tobs), func.max(Measurement.tobs)).\\\n",
    "            filter(Measurement.date >= start).all()\n",
    "    \n",
    "    # Convert the results to a dictionary\n",
    "    temperature_stats = {\n",
    "        'TMIN': results[0][0],\n",
    "        'TAVG': results[0][1],\n",
    "        'TMAX': results[0][2]\n",
    "    }\n",
    "    \n",
    "    return jsonify(temperature_stats)\n",
    "\n",
    "if __name__ == '__main__':\n",
    "    app.run(debug=True)"
   ]
  },
  {
   "cell_type": "code",
   "execution_count": null,
   "id": "21051117",
   "metadata": {},
   "outputs": [],
   "source": []
  }
 ],
 "metadata": {
  "kernelspec": {
   "display_name": "Python 3 (ipykernel)",
   "language": "python",
   "name": "python3"
  },
  "language_info": {
   "codemirror_mode": {
    "name": "ipython",
    "version": 3
   },
   "file_extension": ".py",
   "mimetype": "text/x-python",
   "name": "python",
   "nbconvert_exporter": "python",
   "pygments_lexer": "ipython3",
   "version": "3.10.9"
  }
 },
 "nbformat": 4,
 "nbformat_minor": 5
}
