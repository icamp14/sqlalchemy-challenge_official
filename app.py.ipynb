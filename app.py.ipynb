{
 "cells": [
  {
   "cell_type": "code",
   "execution_count": 1,
   "id": "0744fb2b",
   "metadata": {},
   "outputs": [],
   "source": [
    "import numpy as np\n",
    "import pandas as pd\n",
    "import matplotlib.pyplot as plt\n",
    "from sqlalchemy import create_engine, inspect\n",
    "from sqlalchemy.orm import Session\n",
    "from sqlalchemy.ext.automap import automap_base\n",
    "from datetime import datetime, timedelta\n"
   ]
  },
  {
   "cell_type": "code",
   "execution_count": null,
   "id": "b40b0cb0",
   "metadata": {},
   "outputs": [],
   "source": [
    "# Step 2: Connect to SQLite database\n",
    "engine = create_engine('sqlite:///hawaii.sqlite')"
   ]
  },
  {
   "cell_type": "code",
   "execution_count": null,
   "id": "bf06555b",
   "metadata": {},
   "outputs": [],
   "source": [
    "# Step 3: Reflect tables into classes\n",
    "Base = automap_base()\n",
    "Base.prepare(engine, reflect=True)\n",
    "Station = Base.classes.station\n",
    "Measurement = Base.classes.measurement"
   ]
  },
  {
   "cell_type": "code",
   "execution_count": null,
   "id": "4b603956",
   "metadata": {},
   "outputs": [],
   "source": [
    "# Step 4: Create a session\n",
    "session = Session(engine)"
   ]
  },
  {
   "cell_type": "code",
   "execution_count": null,
   "id": "b051d262",
   "metadata": {},
   "outputs": [],
   "source": [
    "# Precipitation Analysis\n",
    "\n",
    "# Step 1: Find the most recent date in the dataset\n",
    "most_recent_date = session.query(Measurement.date).order_by(Measurement.date.desc()).first()\n",
    "most_recent_date = datetime.strptime(most_recent_date[0], '%Y-%m-%d').date()\n",
    "\n",
    "# Step 2: Calculate the date 1 year ago from the most recent date\n",
    "one_year_ago = most_recent_date - timedelta(days=365)\n",
    "\n",
    "# Step 3: Query the previous 12 months of precipitation data\n",
    "precipitation_data = session.query(Measurement.date, Measurement.prcp).\\\n",
    "    filter(Measurement.date >= one_year_ago).all()\n",
    "\n",
    "# Step 4: Load query results into a Pandas DataFrame\n",
    "df_precipitation = pd.DataFrame(precipitation_data, columns=['date', 'prcp'])\n",
    "\n",
    "# Step 5: Sort the DataFrame values by \"date\"\n",
    "df_precipitation = df_precipitation.sort_values('date')\n",
    "\n",
    "# Step 6: Plot the results\n",
    "df_precipitation.plot(x='date', y='prcp', rot=90)\n",
    "plt.xlabel('Date')\n",
    "plt.ylabel('Precipitation (inches)')\n",
    "plt.title('Precipitation Analysis (12 months)')\n",
    "plt.tight_layout()\n",
    "plt.show()\n"
   ]
  },
  {
   "cell_type": "code",
   "execution_count": null,
   "id": "364509fe",
   "metadata": {},
   "outputs": [],
   "source": [
    "# Station Analysis\n",
    "\n",
    "# Query the total number of stations\n",
    "station_count = session.query(func.count(Station.station)).scalar()\n",
    "print(f'Total number of stations: {station_count}')"
   ]
  },
  {
   "cell_type": "code",
   "execution_count": null,
   "id": "23e6c631",
   "metadata": {},
   "outputs": [],
   "source": [
    "# Query the most active stations\n",
    "active_stations = session.query(Measurement.station, func.count(Measurement.station)).\\\n",
    "    group_by(Measurement.station).order_by(func.count(Measurement.station).desc()).all()\n",
    "\n",
    "print('Most active stations:')\n",
    "for station, count in active_stations:\n",
    "    print(f'Station: {station}, Observations: {count}')"
   ]
  },
  {
   "cell_type": "code",
   "execution_count": null,
   "id": "128094db",
   "metadata": {},
   "outputs": [],
   "source": [
    "# Get the station with the highest number of observations\n",
    "most_active_station = active_stations[0][0]\n",
    "\n",
    "# Query the last 12 months of temperature observation data for the most active station\n",
    "temperature_data = session.query(Measurement.date, Measurement.tobs).\\\n",
    "    filter(Measurement.station == most_active_station).\\\n",
    "    filter(Measurement.date >= one_year_ago).all()\n"
   ]
  },
  {
   "cell_type": "code",
   "execution_count": null,
   "id": "21385c57",
   "metadata": {},
   "outputs": [],
   "source": [
    "# Load query results into a Pandas DataFrame\n",
    "df_temperature = pd.DataFrame(temperature_data, columns=['date', 'tobs'])"
   ]
  },
  {
   "cell_type": "code",
   "execution_count": null,
   "id": "a9634b27",
   "metadata": {},
   "outputs": [],
   "source": [
    "# Plot the results as a histogram\n",
    "df_temperature.plot.hist(bins=12)\n",
    "plt.xlabel('Temperature (°F)')\n",
    "plt.ylabel('Frequency')\n",
    "plt.title('Temperature Observation Analysis (12 months)')\n",
    "plt.tight_layout()\n",
    "plt.show()"
   ]
  },
  {
   "cell_type": "code",
   "execution_count": null,
   "id": "e785839b",
   "metadata": {},
   "outputs": [],
   "source": [
    "# Close the session\n",
    "session.close()\n"
   ]
  },
  {
   "cell_type": "code",
   "execution_count": null,
   "id": "eb841dff",
   "metadata": {},
   "outputs": [],
   "source": []
  }
 ],
 "metadata": {
  "kernelspec": {
   "display_name": "Python 3 (ipykernel)",
   "language": "python",
   "name": "python3"
  },
  "language_info": {
   "codemirror_mode": {
    "name": "ipython",
    "version": 3
   },
   "file_extension": ".py",
   "mimetype": "text/x-python",
   "name": "python",
   "nbconvert_exporter": "python",
   "pygments_lexer": "ipython3",
   "version": "3.10.9"
  }
 },
 "nbformat": 4,
 "nbformat_minor": 5
}
